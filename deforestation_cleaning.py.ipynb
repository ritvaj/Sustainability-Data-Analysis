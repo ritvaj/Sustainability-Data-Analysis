{
 "cells": [
  {
   "cell_type": "code",
   "execution_count": 20,
   "id": "4bd5544c-5b51-4014-bd53-891e4e2b1a3d",
   "metadata": {},
   "outputs": [
    {
     "data": {
      "text/html": [
       "<div>\n",
       "<style scoped>\n",
       "    .dataframe tbody tr th:only-of-type {\n",
       "        vertical-align: middle;\n",
       "    }\n",
       "\n",
       "    .dataframe tbody tr th {\n",
       "        vertical-align: top;\n",
       "    }\n",
       "\n",
       "    .dataframe thead th {\n",
       "        text-align: right;\n",
       "    }\n",
       "</style>\n",
       "<table border=\"1\" class=\"dataframe\">\n",
       "  <thead>\n",
       "    <tr style=\"text-align: right;\">\n",
       "      <th></th>\n",
       "      <th>country_code</th>\n",
       "      <th>year</th>\n",
       "      <th>country_name</th>\n",
       "      <th>forest_cover_percent</th>\n",
       "    </tr>\n",
       "  </thead>\n",
       "  <tbody>\n",
       "    <tr>\n",
       "      <th>0</th>\n",
       "      <td>AFG</td>\n",
       "      <td>1990</td>\n",
       "      <td>Afghanistan</td>\n",
       "      <td>1.8528</td>\n",
       "    </tr>\n",
       "    <tr>\n",
       "      <th>1</th>\n",
       "      <td>AFG</td>\n",
       "      <td>1991</td>\n",
       "      <td>Afghanistan</td>\n",
       "      <td>1.8528</td>\n",
       "    </tr>\n",
       "    <tr>\n",
       "      <th>2</th>\n",
       "      <td>ALB</td>\n",
       "      <td>1990</td>\n",
       "      <td>Albania</td>\n",
       "      <td>28.7883</td>\n",
       "    </tr>\n",
       "    <tr>\n",
       "      <th>3</th>\n",
       "      <td>ALB</td>\n",
       "      <td>1991</td>\n",
       "      <td>Albania</td>\n",
       "      <td>28.7172</td>\n",
       "    </tr>\n",
       "    <tr>\n",
       "      <th>4</th>\n",
       "      <td>AFG</td>\n",
       "      <td>1992</td>\n",
       "      <td>Afghanistan</td>\n",
       "      <td>1.8528</td>\n",
       "    </tr>\n",
       "  </tbody>\n",
       "</table>\n",
       "</div>"
      ],
      "text/plain": [
       "  country_code  year country_name  forest_cover_percent\n",
       "0          AFG  1990  Afghanistan                1.8528\n",
       "1          AFG  1991  Afghanistan                1.8528\n",
       "2          ALB  1990      Albania               28.7883\n",
       "3          ALB  1991      Albania               28.7172\n",
       "4          AFG  1992  Afghanistan                1.8528"
      ]
     },
     "execution_count": 20,
     "metadata": {},
     "output_type": "execute_result"
    }
   ],
   "source": [
    "import pandas as pd\n",
    "\n",
    "# Step 1: Load raw data\n",
    "df_raw = pd.read_csv(\"Deforestation.csv\")\n",
    "\n",
    "# Step 2: Drop rows with any null values\n",
    "df_cleaned = df_raw.dropna().copy()\n",
    "\n",
    "# Step 3: Renaming columns for clarity\n",
    "df_cleaned.rename(columns={\n",
    "    'Country code': 'country_code',\n",
    "    'year': 'year',\n",
    "    'name': 'country_name',\n",
    "    'forest_cover_percent': 'forest_cover_percent'\n",
    "}, inplace=True)\n",
    "\n",
    "# Step 4: Save the cleaned version\n",
    "df_cleaned.to_csv(\"Deforestation_Cleaned.csv\", index=False)\n",
    "\n",
    "# Display sample output\n",
    "df_cleaned.head(5)"
   ]
  },
  {
   "cell_type": "code",
   "execution_count": null,
   "id": "415cbfa9-71d1-4759-97a5-2a8d405aa7fe",
   "metadata": {},
   "outputs": [],
   "source": []
  }
 ],
 "metadata": {
  "kernelspec": {
   "display_name": "Python [conda env:base] *",
   "language": "python",
   "name": "conda-base-py"
  },
  "language_info": {
   "codemirror_mode": {
    "name": "ipython",
    "version": 3
   },
   "file_extension": ".py",
   "mimetype": "text/x-python",
   "name": "python",
   "nbconvert_exporter": "python",
   "pygments_lexer": "ipython3",
   "version": "3.12.7"
  }
 },
 "nbformat": 4,
 "nbformat_minor": 5
}
